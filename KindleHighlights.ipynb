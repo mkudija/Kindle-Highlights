{
 "cells": [
  {
   "cell_type": "code",
   "execution_count": 1,
   "metadata": {
    "collapsed": false
   },
   "outputs": [
    {
     "name": "stdout",
     "output_type": "stream",
     "text": [
      "First Industrial Revolution devalued muscle work, then the second one devalued routine mental work. (pg. 14)\n",
      "\n",
      "That would be the third revolution, I guess—machines that devaluate human thinking. Some of the big computers like EPICAC do that all right, in specialized fields.” “Uh-huh,” said Katharine thoughtfully. She rattled a pencil between her teeth. “First the muscle work, then the routine work, then, maybe, the real brainwork.” “I hope I’m not around long enough to see that final step. (pg. 15)\n",
      "\n",
      "“I love you, Paul.” “I love you, Anita. Goodbye.” Anita had the mechanics of marriage down pat, even to the subtlest conventions. If her approach was disturbingly rational, systematic, she was thorough enough to turn out a creditable counterfeit of warmth. (pg. 17)\n",
      "\n",
      "In short, Paul missed what made his father aggressive and great: the capacity to really give a damn. (pg. 63)\n",
      "\n",
      "rnal vigilance was the price of efficiency. And the machines tirelessly riffled through their decks again and again and again in search of foot draggers, free riders, and misfits. (pg. 73)\n",
      "\n",
      "And Halyard suddenly realized that, just as religion and government had been split into disparate entities centuries before, now, thanks to the machines, politics and government lived side by side, but touched almost nowhere. (pg. 120)\n",
      "\n",
      "I do know that it’s far easier to ask questions than to answer them. (pg. 131)\n",
      "\n",
      "He wanted to deal, not with society, but only with Earth as God had given it to man. (pg. 137)\n",
      "\n",
      "daydreamed of living a century before— (pg. 147)\n",
      "\n",
      "“I’m doctor of cowshit, pigshit, and chickenshit,” he said. “When you doctors figure out what you want, you’ll find me out in the barn shoveling my thesis.” (pg. 155)\n",
      "\n",
      "“Afraid I don’t know how,” said Paul. “Maybe,” said Mr. Haycox walking away, “maybe if you’d of gone to college another ten or twenty years, somebody would of gotten around to showing you how, Doctor.” (pg. 157)\n",
      "\n",
      "postwar development of three thousand dream houses for three thousand families with presumably identical dreams. (pg. 160)\n",
      "\n",
      "feeling of being needed and useful, the foundation of self-respect.” (pg. 175)\n",
      "\n",
      "do you agree things are a mess?” “Between us?” “Everywhere! The world!” She could be appallingly nearsighted. (pg. 184)\n",
      "\n",
      "“Nobody’s so damn well educated that you can’t learn ninety per cent of what he knows in six weeks. The other ten per cent is decoration.” (pg. 229)\n",
      "\n",
      "Sure, everybody worked in George Washington’s time, but George Washington worked hard. Everybody worked in Shakespeare’s time, but Shakespeare worked hard. I’m who I am because I work hard.” (pg. 269)\n",
      "\n",
      "“What have you got against machines?” said Buck. “They’re slaves.” “Well, what the heck,” said Buck. “I mean, they aren’t people. They don’t suffer. They don’t mind working.” “No. But they compete with people.” “That’s a pretty good thing, isn’t it—considering what a sloppy job most people do of anything?” “Anybody that competes with slaves becomes a slave,” (pg. 280)\n",
      "\n",
      "“Don’t you see, Doctor?” said Lasher. “The machines are to practically everybody what the white men were to the Indians. People are finding that, because of the way the machines are changing the world, more and more of their old values don’t apply any more. People have no choice but to become second-rate machines themselves, or wards of the machines.” (pg. 289)\n",
      "\n",
      "“I deny that there is any natural or divine law requiring that machines, efficiency, and organization should forever increase in scope, power, and complexity, in peace as in war. I see the growth of these now, rather, as the result of a dangerous lack of law. (pg. 301)\n",
      "\n",
      "“Without regard for the wishes of men, any machines or techniques or forms of organization that can economically replace men do replace men. Replacement is not necessarily bad, but to do it without regard for the wishes of men is lawlessness. (pg. 301)\n",
      "\n",
      "“Men, by their nature, seemingly, cannot be happy unless engaged in enterprises that make them feel useful. They must, therefore, be returned to participation in such enterprises. (pg. 302)\n",
      "\n",
      "“That there must be virtue in imperfection, for Man is imperfect, and Man is a creation of God. “That there must be virtue in frailty, for Man is frail, and Man is a creation of God. “That there must be virtue in inefficiency, for Man is inefficient, and Man is a creation of God. “That there must be virtue in brilliance followed by stupidity, for Man is alternately brilliant and stupid, and Man is a creation of God. “You perhaps disagree with the antique and vain notion of Man’s being a creation of God. “But I find it a far more defensible belief than the one implicit in intemperate faith in lawless technological progress—namely, that man is on earth to create more durable and efficient images of himself, and, hence, to eliminate any justification at all for his own continued existence. (pg. 302)\n",
      "\n",
      "It was as though the giving or withholding of official recognition were life or death to ideas. (pg. 310)\n",
      "\n",
      "step backward, after making a wrong turn, is a step in the right direction.” (pg. 312)\n",
      "\n",
      "We’ll rediscover the two greatest wonders of the world, the human mind and hand.” (pg. 336)\n",
      "\n"
     ]
    }
   ],
   "source": [
    "files = ['highlights.txt']\n",
    "\n",
    "def highlightsParse(file): \n",
    "    # import highlights\n",
    "    #filename = year+'_Books.md'\n",
    "    with open(file) as f:\n",
    "        hl = f.readlines()\n",
    "\n",
    "    # reformat for HTML\n",
    "    hl = [x.strip('\\n').strip('Yellow highlight | Page: ') for x in hl]\n",
    "    hl_export = []\n",
    "    pages = []\n",
    "    content = []\n",
    "    for item in range(0,len(hl)):\n",
    "        if item%3==0:\n",
    "            pages.append(hl[item])\n",
    "        if (item-1)%3==0:\n",
    "            content.append(hl[item])\n",
    "            \n",
    "    for item in range(0,len(pages)):\n",
    "        content[item] = content[item]+' (pg. '+pages[item]+')'\n",
    "        print(content[item]+'\\n')\n",
    "    \n",
    "    # save reformatted highlights\n",
    "    parsed = open('highlightsParsed.txt', 'w')\n",
    "    for item in content:\n",
    "        parsed.write(\"%s\\n\" % item)\n",
    "    parsed.close()\n",
    "\n",
    "number = []\n",
    "for file in files:\n",
    "    x = highlightsParse(file)\n",
    "    number.append(x)"
   ]
  },
  {
   "cell_type": "code",
   "execution_count": null,
   "metadata": {
    "collapsed": true
   },
   "outputs": [],
   "source": []
  }
 ],
 "metadata": {
  "anaconda-cloud": {},
  "kernelspec": {
   "display_name": "Python [Root]",
   "language": "python",
   "name": "Python [Root]"
  },
  "language_info": {
   "codemirror_mode": {
    "name": "ipython",
    "version": 3
   },
   "file_extension": ".py",
   "mimetype": "text/x-python",
   "name": "python",
   "nbconvert_exporter": "python",
   "pygments_lexer": "ipython3",
   "version": "3.5.3"
  }
 },
 "nbformat": 4,
 "nbformat_minor": 0
}
